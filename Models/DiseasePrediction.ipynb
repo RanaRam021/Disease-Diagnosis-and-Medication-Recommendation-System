{
 "cells": [
  {
   "cell_type": "code",
   "execution_count": null,
   "metadata": {},
   "outputs": [],
   "source": [
    "import pandas as pd\n",
    "import numpy as np\n",
    "from sklearn.model_selection import train_test_split\n",
    "from sklearn.ensemble import RandomForestClassifier\n",
    "from sklearn.metrics import accuracy_score, confusion_matrix\n",
    "import pickle\n",
    "import ast\n"
   ]
  },
  {
   "cell_type": "code",
   "execution_count": null,
   "metadata": {},
   "outputs": [],
   "source": [
    "import warnings\n",
    "from sklearn.exceptions import ConvergenceWarning\n",
    "\n",
    "warnings.filterwarnings(\"ignore\")"
   ]
  },
  {
   "cell_type": "code",
   "execution_count": null,
   "metadata": {},
   "outputs": [],
   "source": [
    "df = pd.read_csv(\"../Datasets/Training.csv\")\n",
    "\n",
    "df.head()"
   ]
  },
  {
   "cell_type": "code",
   "execution_count": null,
   "metadata": {},
   "outputs": [],
   "source": [
    "df.shape"
   ]
  },
  {
   "cell_type": "code",
   "execution_count": null,
   "metadata": {},
   "outputs": [],
   "source": [
    "df.isnull().sum()"
   ]
  },
  {
   "cell_type": "code",
   "execution_count": null,
   "metadata": {},
   "outputs": [],
   "source": [
    "X = df.drop('prognosis', axis=1)\n",
    "Y = df['prognosis']\n",
    "\n",
    "X_train, X_test, Y_train, Y_test = train_test_split(X, Y, test_size=0.3, random_state=20)\n",
    "\n",
    "RFC = RandomForestClassifier(n_estimators=100, random_state=42)\n",
    "RFC.fit(X_train, Y_train)\n",
    "\n",
    "Y_pred = RFC.predict(X_test)\n",
    "\n",
    "acc = accuracy_score(Y_test, Y_pred)\n",
    "cnf = confusion_matrix(Y_test, Y_pred)\n",
    "\n",
    "\n",
    " \n",
    "print(\"accuracy :\", acc)\n",
    "print(\"Confusion matrix :\", cnf)\n",
    "\n",
    "\n"
   ]
  },
  {
   "cell_type": "code",
   "execution_count": null,
   "metadata": {},
   "outputs": [],
   "source": [
    "pickle.dump(RFC, open('RFC.pkl','wb'))\n",
    "\n",
    "X_test.head()"
   ]
  },
  {
   "cell_type": "code",
   "execution_count": null,
   "metadata": {},
   "outputs": [],
   "source": [
    "RFC = pickle.load(open('RFC.pkl','rb'))\n",
    "\n",
    "symptom = X_test.iloc[55].values.reshape(1,-1)\n",
    "\n",
    "pred_disease = RFC.predict(symptom)[0]\n",
    "pred_disease"
   ]
  },
  {
   "cell_type": "code",
   "execution_count": null,
   "metadata": {},
   "outputs": [],
   "source": [
    "desc = pd.read_csv('../Datasets/description.csv')\n",
    "med = pd.read_csv('../Datasets/medications.csv')\n",
    "prec = pd.read_csv('../Datasets/precautions_df.csv')\n",
    "work = pd.read_csv('../Datasets/workout_df.csv')\n",
    "diet = pd.read_csv('../Datasets/diets.csv')\n",
    "\n",
    "diet['Diet'] = diet['Diet'].apply(lambda x: ast.literal_eval(x))\n",
    "med['Medication'] = med['Medication'].apply(lambda x: ast.literal_eval(x))\n"
   ]
  },
  {
   "cell_type": "code",
   "execution_count": null,
   "metadata": {},
   "outputs": [],
   "source": [
    "def Ai_Doc(dis):\n",
    "    desc_pred = desc[desc['Disease'] == dis]['Description']\n",
    "    desc_pred = \" \".join([w for w in desc_pred])\n",
    "\n",
    "    prec_pred = prec[prec['Disease'] == dis][['Precaution_1', 'Precaution_2', 'Precaution_3', 'Precaution_4']]\n",
    "    prec_pred = [col for col in prec_pred.values]\n",
    "\n",
    "    med_pred = med[med['Disease'] == dis]['Medication']\n",
    "    med_pred = [med_pred for med_pred in med_pred.values]\n",
    "\n",
    "    diet_pred = diet[diet['Disease'] == dis]['Diet']\n",
    "    diet_pred = [diet_pred for diet_pred in diet_pred.values]\n",
    "\n",
    "    work_Pred = work[work['Disease'] == dis] ['Workout']\n",
    "\n",
    "\n",
    "    return desc_pred,prec_pred,med_pred,diet_pred,work_Pred\n"
   ]
  },
  {
   "cell_type": "code",
   "execution_count": null,
   "metadata": {},
   "outputs": [],
   "source": [
    "symptoms_dict = {'itching': 0, 'skin_rash': 1, 'nodal_skin_eruptions': 2, 'continuous_sneezing': 3, 'shivering': 4, 'chills': 5, 'joint_pain': 6, 'stomach_pain': 7, 'acidity': 8, 'ulcers_on_tongue': 9, 'muscle_wasting': 10, 'vomiting': 11, 'burning_micturition': 12, 'spotting_ urination': 13, 'fatigue': 14, 'weight_gain': 15, 'anxiety': 16, 'cold_hands_and_feets': 17, 'mood_swings': 18, 'weight_loss': 19, 'restlessness': 20, 'lethargy': 21, 'patches_in_throat': 22, 'irregular_sugar_level': 23, 'cough': 24, 'high_fever': 25, 'sunken_eyes': 26, 'breathlessness': 27, 'sweating': 28, 'dehydration': 29, 'indigestion': 30, 'headache': 31, 'yellowish_skin': 32, 'dark_urine': 33, 'nausea': 34, 'loss_of_appetite': 35, 'pain_behind_the_eyes': 36, 'back_pain': 37, 'constipation': 38, 'abdominal_pain': 39, 'diarrhoea': 40, 'mild_fever': 41, 'yellow_urine': 42, 'yellowing_of_eyes': 43, 'acute_liver_failure': 44, 'fluid_overload': 45, 'swelling_of_stomach': 46, 'swelled_lymph_nodes': 47, 'malaise': 48, 'blurred_and_distorted_vision': 49, 'phlegm': 50, 'throat_irritation': 51, 'redness_of_eyes': 52, 'sinus_pressure': 53, 'runny_nose': 54, 'congestion': 55, 'chest_pain': 56, 'weakness_in_limbs': 57, 'fast_heart_rate': 58, 'pain_during_bowel_movements': 59, 'pain_in_anal_region': 60, 'bloody_stool': 61, 'irritation_in_anus': 62, 'neck_pain': 63, 'dizziness': 64, 'cramps': 65, 'bruising': 66, 'obesity': 67, 'swollen_legs': 68, 'swollen_blood_vessels': 69, 'puffy_face_and_eyes': 70, 'enlarged_thyroid': 71, 'brittle_nails': 72, 'swollen_extremeties': 73, 'excessive_hunger': 74, 'extra_marital_contacts': 75, 'drying_and_tingling_lips': 76, 'slurred_speech': 77, 'knee_pain': 78, 'hip_joint_pain': 79, 'muscle_weakness': 80, 'stiff_neck': 81, 'swelling_joints': 82, 'movement_stiffness': 83, 'spinning_movements': 84, 'loss_of_balance': 85, 'unsteadiness': 86, 'weakness_of_one_body_side': 87, 'loss_of_smell': 88, 'bladder_discomfort': 89, 'foul_smell_of urine': 90, 'continuous_feel_of_urine': 91, 'passage_of_gases': 92, 'internal_itching': 93, 'toxic_look_(typhos)': 94, 'depression': 95, 'irritability': 96, 'muscle_pain': 97, 'altered_sensorium': 98, 'red_spots_over_body': 99, 'belly_pain': 100, 'abnormal_menstruation': 101, 'dischromic _patches': 102, 'watering_from_eyes': 103, 'increased_appetite': 104, 'polyuria': 105, 'family_history': 106, 'mucoid_sputum': 107, 'rusty_sputum': 108, 'lack_of_concentration': 109, 'visual_disturbances': 110, 'receiving_blood_transfusion': 111, 'receiving_unsterile_injections': 112, 'coma': 113, 'stomach_bleeding': 114, 'distention_of_abdomen': 115, 'history_of_alcohol_consumption': 116, 'fluid_overload.1': 117, 'blood_in_sputum': 118, 'prominent_veins_on_calf': 119, 'palpitations': 120, 'painful_walking': 121, 'pus_filled_pimples': 122, 'blackheads': 123, 'scurring': 124, 'skin_peeling': 125, 'silver_like_dusting': 126, 'small_dents_in_nails': 127, 'inflammatory_nails': 128, 'blister': 129, 'red_sore_around_nose': 130, 'yellow_crust_ooze': 131}\n",
    "\n",
    "def Predict_Disease(symptoms):\n",
    "    Inp_vect = np.zeros(len(symptoms_dict))\n",
    "    for i in symptoms:\n",
    "        Inp_vect[symptoms_dict[i]] = 1\n",
    "    return RFC.predict([Inp_vect])[0]\n",
    "    "
   ]
  },
  {
   "cell_type": "code",
   "execution_count": null,
   "metadata": {},
   "outputs": [],
   "source": [
    "sym = input().split(',')\n",
    "symptoms = [s.strip() for s in sym]\n",
    "\n",
    "pred_disease = Predict_Disease(symptoms)\n",
    "desc_pred,prec_pred,med_pred,diet_pred,work_Pred = Ai_Doc(pred_disease)\n",
    "\n",
    "print(\"=================Symptoms============\")\n",
    "print(symptoms)\n",
    "print()\n",
    "\n",
    "print(\"=================Predicted Disease============\")\n",
    "print(pred_disease)\n",
    "print()\n",
    "\n",
    "print(\"=================Description==================\")\n",
    "print(desc_pred)\n",
    "print()\n",
    "\n",
    "print(\"=================Precautions==================\")\n",
    "i = 1\n",
    "for p_i in prec_pred[0]:\n",
    "    print(i, \": \", p_i)\n",
    "    i += 1\n",
    "print()\n",
    "\n",
    "print(\"=================Medications==================\")\n",
    "i = 1\n",
    "for m_i in med_pred[0]:\n",
    "    print(i, \": \", m_i)\n",
    "    i += 1\n",
    "print()\n",
    "\n",
    "print(\"=================Workout==================\")\n",
    "i = 1\n",
    "for w_i in work_Pred:\n",
    "    print(i, \": \", w_i)\n",
    "    i += 1\n",
    "print()\n",
    "\n",
    "print(\"=================Diets==================\")\n",
    "i = 1\n",
    "for d_i in diet_pred[0]:\n",
    "    print(i, \": \", d_i)\n",
    "    i += 1\n",
    "print()\n"
   ]
  }
 ],
 "metadata": {
  "kernelspec": {
   "display_name": "Python 3",
   "language": "python",
   "name": "python3"
  },
  "language_info": {
   "codemirror_mode": {
    "name": "ipython",
    "version": 3
   },
   "file_extension": ".py",
   "mimetype": "text/x-python",
   "name": "python",
   "nbconvert_exporter": "python",
   "pygments_lexer": "ipython3",
   "version": "3.12.3"
  }
 },
 "nbformat": 4,
 "nbformat_minor": 2
}
